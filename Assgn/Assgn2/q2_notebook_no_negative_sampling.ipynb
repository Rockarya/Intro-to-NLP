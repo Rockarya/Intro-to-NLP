{
 "cells": [
  {
   "cell_type": "code",
   "execution_count": 1,
   "id": "86d572f0",
   "metadata": {},
   "outputs": [],
   "source": [
    "import torch\n",
    "import torch.nn as nn\n",
    "\n",
    "import numpy as np\n",
    "\n",
    "from nltk.corpus import stopwords\n",
    "from nltk.tokenize import word_tokenize,RegexpTokenizer\n",
    "\n",
    "from tqdm import tqdm\n",
    "\n",
    "import json\n",
    "\n",
    "from sklearn.manifold import TSNE"
   ]
  },
  {
   "cell_type": "code",
   "execution_count": 2,
   "id": "2b60e7e6",
   "metadata": {},
   "outputs": [
    {
     "name": "stderr",
     "output_type": "stream",
     "text": [
      "[nltk_data] Downloading package stopwords to /home/adi/nltk_data...\n",
      "[nltk_data]   Package stopwords is already up-to-date!\n",
      "[nltk_data] Downloading package punkt to /home/adi/nltk_data...\n",
      "[nltk_data]   Package punkt is already up-to-date!\n"
     ]
    },
    {
     "data": {
      "text/plain": [
       "True"
      ]
     },
     "execution_count": 2,
     "metadata": {},
     "output_type": "execute_result"
    }
   ],
   "source": [
    "import nltk\n",
    "nltk.download('stopwords')\n",
    "nltk.download('punkt')"
   ]
  },
  {
   "cell_type": "code",
   "execution_count": 3,
   "id": "2661df86",
   "metadata": {},
   "outputs": [],
   "source": [
    "stop_words = set(stopwords.words('english'))"
   ]
  },
  {
   "cell_type": "code",
   "execution_count": 4,
   "id": "689e0c43",
   "metadata": {},
   "outputs": [],
   "source": [
    "tokenizer = RegexpTokenizer(r'\\w+')"
   ]
  },
  {
   "cell_type": "code",
   "execution_count": 6,
   "id": "19118b0a",
   "metadata": {},
   "outputs": [
    {
     "name": "stderr",
     "output_type": "stream",
     "text": [
      "999it [00:00, 11991.34it/s]\n"
     ]
    }
   ],
   "source": [
    "review_text = []\n",
    "start = 0\n",
    "stop = 1000\n",
    "for line in tqdm(open('Electronics_5.json', 'r')):\n",
    "    rt = json.loads(line)['reviewText']\n",
    "    clean_rt = [w.lower() for w in tokenizer.tokenize(rt) if ((w.lower() not in stop_words) and (w.isalpha()))]\n",
    "    review_text.append(clean_rt)\n",
    "    start+=1\n",
    "    if start==stop:\n",
    "        break"
   ]
  },
  {
   "cell_type": "code",
   "execution_count": 7,
   "id": "03d4049b",
   "metadata": {},
   "outputs": [
    {
     "name": "stderr",
     "output_type": "stream",
     "text": [
      "100%|██████████| 1000/1000 [00:00<00:00, 31142.28it/s]\n"
     ]
    }
   ],
   "source": [
    "freq_dict = dict()\n",
    "\n",
    "for line in tqdm(review_text):\n",
    "#     rt = json.loads(line)['reviewText']\n",
    "#     clean_rt = [w.lower() for w in tokenizer.tokenize(rt) if ((not w.lower() in stop_words) and (w.isalpha()))]\n",
    "    for word in line:\n",
    "        if word not in freq_dict:\n",
    "            freq_dict[word] = 1\n",
    "        else:\n",
    "            freq_dict[word]+= 1"
   ]
  },
  {
   "cell_type": "code",
   "execution_count": 8,
   "id": "f1911d1f",
   "metadata": {},
   "outputs": [],
   "source": [
    "#Find all words with less freq\n",
    "kill_less = 2\n",
    "remove_keys = set()\n",
    "for key, value in freq_dict.items():\n",
    "    if value<kill_less:\n",
    "        remove_keys.add(key)"
   ]
  },
  {
   "cell_type": "code",
   "execution_count": 9,
   "id": "50a47bac",
   "metadata": {},
   "outputs": [],
   "source": [
    "#Remove all words with less freq\n",
    "for key in remove_keys:\n",
    "    resp = freq_dict.pop(key, None)\n",
    "    if resp is None:\n",
    "        print(\"Logical Error\")"
   ]
  },
  {
   "cell_type": "code",
   "execution_count": 10,
   "id": "0d339ccb",
   "metadata": {},
   "outputs": [],
   "source": [
    "#Setting Index Dict\n",
    "counter = 1\n",
    "index_dict = dict()\n",
    "index_dict[\"PAD\"] = 0\n",
    "for key in freq_dict.keys():\n",
    "    index_dict[key] = counter\n",
    "    counter+=1"
   ]
  },
  {
   "cell_type": "code",
   "execution_count": 11,
   "id": "bd3812bf",
   "metadata": {},
   "outputs": [],
   "source": [
    "vocab_size = len(index_dict)"
   ]
  },
  {
   "cell_type": "code",
   "execution_count": 12,
   "id": "864a17cb",
   "metadata": {},
   "outputs": [],
   "source": [
    "#Setting Word Dict\n",
    "word_dict = dict()\n",
    "word_dict[0] = \"PAD\"\n",
    "for key, value in index_dict.items():\n",
    "    word_dict[value] = key    "
   ]
  },
  {
   "cell_type": "code",
   "execution_count": 13,
   "id": "44e1c591",
   "metadata": {},
   "outputs": [],
   "source": [
    "#Corpus is basically tokenized documents after removing all the stop words and the low frequency words\n",
    "corpus = [[w for w in review if w in index_dict] for review in review_text]"
   ]
  },
  {
   "cell_type": "code",
   "execution_count": 14,
   "id": "527c1718",
   "metadata": {},
   "outputs": [],
   "source": [
    "CONTEXT_SIZE = 2  # 2 left, 2 right\n",
    "EMDEDDING_DIM = 200"
   ]
  },
  {
   "cell_type": "code",
   "execution_count": 15,
   "id": "d348c2d6",
   "metadata": {},
   "outputs": [],
   "source": [
    "class CBOW(torch.nn.Module):\n",
    "    def __init__(self, vocab_size, embedding_dim):\n",
    "        super(CBOW, self).__init__()\n",
    "        self.embeddings = nn.Embedding(vocab_size, embedding_dim)\n",
    "        self.linear = nn.Linear(embedding_dim, vocab_size)\n",
    "        self.activation_function = nn.ReLU()\n",
    "        \n",
    "\n",
    "    def forward(self, inputs):\n",
    "        embeds = torch.mean(self.embeddings(inputs),0).view(1,-1)\n",
    "        return self.activation_function(self.linear(embeds))\n",
    "\n",
    "\n",
    "model = CBOW(vocab_size, EMDEDDING_DIM)\n",
    "loss_function = nn.NLLLoss()\n",
    "optimizer = torch.optim.SGD(model.parameters(), lr=0.001)"
   ]
  },
  {
   "cell_type": "code",
   "execution_count": 16,
   "id": "bea7fb3f",
   "metadata": {},
   "outputs": [],
   "source": [
    "def context_target_pairs(document,window_size):\n",
    "    ret = []\n",
    "    context_length = window_size*2\n",
    "    sentence_length = len(document)\n",
    "    for index, word in enumerate(document):\n",
    "        context_words = []\n",
    "        target_word   = index_dict[word]       \n",
    "        start = max(0,index - window_size)\n",
    "        end = min(index + window_size + 1, sentence_length)\n",
    "        context_words = [index_dict[document[i]] for i in range(start, end) if i != index]\n",
    "        context_words = add_padding(context_words,context_length)\n",
    "        ret.append((context_words,target_word))\n",
    "    return ret"
   ]
  },
  {
   "cell_type": "code",
   "execution_count": 17,
   "id": "ab327f3b",
   "metadata": {},
   "outputs": [],
   "source": [
    "def add_padding(context,max_len):\n",
    "    if max_len < len(context):\n",
    "        \n",
    "        raise Exception(\"max_len should be greater than vector length for vector : \",context,len(context),max_len)\n",
    "    else:\n",
    "        return [0]*(max_len-len(context)) + list(context)"
   ]
  },
  {
   "cell_type": "code",
   "execution_count": 18,
   "id": "f99eaad7",
   "metadata": {},
   "outputs": [
    {
     "name": "stderr",
     "output_type": "stream",
     "text": [
      "100%|██████████| 1000/1000 [00:00<00:00, 1230.07it/s]\n"
     ]
    }
   ],
   "source": [
    "data = []\n",
    "for document in tqdm(corpus):\n",
    "    data = data + context_target_pairs(document,CONTEXT_SIZE)"
   ]
  },
  {
   "cell_type": "code",
   "execution_count": 25,
   "id": "f7487b98",
   "metadata": {},
   "outputs": [
    {
     "name": "stderr",
     "output_type": "stream",
     "text": [
      "100%|██████████| 69033/69033 [00:10<00:00, 6454.13it/s]\n",
      "100%|██████████| 69033/69033 [00:11<00:00, 6098.85it/s]\n",
      "100%|██████████| 69033/69033 [00:10<00:00, 6313.86it/s]\n",
      "100%|██████████| 69033/69033 [00:11<00:00, 5969.20it/s]\n",
      "100%|██████████| 69033/69033 [00:11<00:00, 6264.27it/s]\n",
      "100%|██████████| 69033/69033 [00:11<00:00, 6005.80it/s]\n",
      "100%|██████████| 69033/69033 [00:11<00:00, 5971.96it/s]\n",
      "100%|██████████| 69033/69033 [00:11<00:00, 6063.03it/s]\n",
      "100%|██████████| 69033/69033 [00:11<00:00, 5851.52it/s]\n",
      "100%|██████████| 69033/69033 [00:11<00:00, 5911.16it/s]\n",
      "100%|██████████| 69033/69033 [00:11<00:00, 5875.63it/s]\n",
      "100%|██████████| 69033/69033 [00:11<00:00, 5953.29it/s]\n",
      "100%|██████████| 69033/69033 [00:11<00:00, 5932.26it/s]\n",
      "100%|██████████| 69033/69033 [00:11<00:00, 5852.02it/s]\n",
      "100%|██████████| 69033/69033 [00:11<00:00, 5886.95it/s]\n",
      "100%|██████████| 69033/69033 [00:11<00:00, 5951.16it/s]\n",
      "100%|██████████| 69033/69033 [00:11<00:00, 6097.38it/s]\n",
      "100%|██████████| 69033/69033 [00:11<00:00, 5799.71it/s]\n",
      "100%|██████████| 69033/69033 [00:11<00:00, 6081.84it/s]\n",
      "100%|██████████| 69033/69033 [00:11<00:00, 5818.72it/s]\n",
      "100%|██████████| 69033/69033 [00:11<00:00, 5891.75it/s]\n",
      "100%|██████████| 69033/69033 [00:11<00:00, 5856.57it/s]\n",
      "100%|██████████| 69033/69033 [00:12<00:00, 5738.89it/s]\n",
      "100%|██████████| 69033/69033 [00:11<00:00, 5862.40it/s]\n",
      "100%|██████████| 69033/69033 [00:11<00:00, 5885.97it/s]\n"
     ]
    }
   ],
   "source": [
    "for epoch in range(25):\n",
    "    total_loss = 0\n",
    "\n",
    "    for context, target in tqdm(data):\n",
    "        context_vector = torch.tensor(context, dtype=torch.long) \n",
    "        log_probs = model(context_vector)\n",
    "        total_loss += loss_function(log_probs, torch.tensor([target]))\n",
    "\n",
    "    #optimize at the end of each epoch\n",
    "    optimizer.zero_grad()\n",
    "    total_loss.backward()\n",
    "    optimizer.step()\n",
    "    #Below TQDM log doesnt containg the time taken by back prop and optimizer"
   ]
  },
  {
   "cell_type": "code",
   "execution_count": 41,
   "id": "8b3d50b4",
   "metadata": {},
   "outputs": [],
   "source": [
    "#Saving and Loading Model\n",
    "torch.save(model, \"cbow.pt\")\n",
    "# model = torch.load(\"cbow.pt\")"
   ]
  },
  {
   "cell_type": "code",
   "execution_count": 42,
   "id": "30394d27",
   "metadata": {},
   "outputs": [],
   "source": [
    "def word2embedding(word,model):\n",
    "    if word in index_dict:\n",
    "        return model.embeddings(torch.tensor([index_dict[word]]))\n",
    "    else:\n",
    "        None"
   ]
  },
  {
   "cell_type": "code",
   "execution_count": 43,
   "id": "a72067fc",
   "metadata": {},
   "outputs": [
    {
     "data": {
      "text/plain": [
       "tensor([[-0.7715,  3.8001, -0.4787,  0.9449,  4.3423, -0.1094,  2.8796,  2.2602,\n",
       "         -2.0534, -1.5612,  1.4866, -3.1562, -2.0136, -0.5811, -0.5937, -1.1012,\n",
       "         -0.7432, -0.9380, -0.5945, -0.4228,  1.3750,  1.8837,  2.1810,  1.3604,\n",
       "          0.6540,  1.1288,  1.2732,  0.9343,  2.0863,  2.2703, -0.6302,  1.8748,\n",
       "          2.0705,  0.9632, -0.2557, -3.7779,  0.6180, -0.4570, -2.0739, -1.8672,\n",
       "         -0.6640,  3.5088, -0.9398,  2.3164,  0.9954, -0.2409,  0.6435, -0.9655,\n",
       "         -1.4811,  0.0701, -2.3120, -3.0452,  1.1439,  1.3609,  1.3069,  0.9129,\n",
       "         -2.0742, -2.1247,  1.0430, -0.1396,  2.0452,  0.6596, -0.9013,  2.8900,\n",
       "         -0.2546,  0.0789, -1.2916,  0.2081, -0.7458,  1.3914,  3.8688, -1.0413,\n",
       "         -3.8855,  1.0704, -0.7679,  0.2315, -0.2340, -2.1583,  0.7781,  3.1014,\n",
       "         -2.5271, -0.6516,  4.7489, -1.2232, -4.1381, -0.3378,  2.7871,  0.3990,\n",
       "         -2.2596, -0.8772, -1.0335, -0.5549, -1.6134, -0.1195,  0.6940,  1.4804,\n",
       "          1.0487,  1.7488,  0.4492, -2.2227, -0.6508, -2.9301, -1.8597,  1.5888,\n",
       "          0.9705,  0.1072,  1.0528,  1.2769, -1.3709, -2.2072, -1.3919, -1.5780,\n",
       "          0.2080,  2.7960, -0.6277, -2.9614, -2.3899,  1.0365, -0.3576, -0.3885,\n",
       "          0.3261,  3.7512,  1.4164,  0.3151,  1.0590, -0.2923,  1.6063,  0.4007,\n",
       "          0.4708,  1.8211, -2.2506, -0.7683, -1.4919, -0.1091, -0.3070, -1.4255,\n",
       "         -1.1314, -2.0913, -0.9711, -0.6151, -0.0124, -0.2320, -2.6156, -0.4411,\n",
       "         -0.3229, -0.2318, -0.5648,  2.0825,  2.4318, -1.4419,  0.0331,  0.7553,\n",
       "         -2.1143, -0.7534,  0.2591,  0.0646, -1.8713, -1.5809, -3.8140, -0.4707,\n",
       "          0.8246,  0.4727, -2.5737, -2.2080, -2.7448, -0.8788, -1.8579,  1.3671,\n",
       "          0.6698,  1.9648, -1.6947,  0.9834, -1.0102,  3.6291, -1.5027,  1.4628,\n",
       "          1.3931,  1.8720,  1.3211, -1.6679,  0.7754,  1.0910,  0.3741,  0.1123,\n",
       "         -0.1123,  1.5038, -1.0513, -0.2699,  1.5399, -3.3426, -0.2256, -1.1738,\n",
       "         -0.3481,  1.1510, -0.0116,  4.1090, -1.7199,  2.6939,  2.7665,  0.9254]],\n",
       "       grad_fn=<EmbeddingBackward>)"
      ]
     },
     "execution_count": 43,
     "metadata": {},
     "output_type": "execute_result"
    }
   ],
   "source": [
    "# Camera\n",
    "word2embedding('camera',model)"
   ]
  },
  {
   "cell_type": "code",
   "execution_count": 44,
   "id": "ce995274",
   "metadata": {},
   "outputs": [],
   "source": [
    "embedds = list(model.embeddings.parameters())[0].detach().cpu()"
   ]
  },
  {
   "cell_type": "code",
   "execution_count": 45,
   "id": "52f2b6f7",
   "metadata": {},
   "outputs": [],
   "source": [
    "def find_top_10(word,embeddings):\n",
    "    if word not in index_dict:\n",
    "        return None\n",
    "    else:\n",
    "        i = index_dict[word]\n",
    "        ans = []\n",
    "        for j in range(len(embedds)):\n",
    "            similarity = torch.cosine_similarity(embedds[i].view(1,-1), embedds[j].view(1,-1)).item()\n",
    "            ans.append(similarity)\n",
    "        top_10 = np.flip(np.argsort(ans)[-10:])\n",
    "        for index in top_10:\n",
    "            print(word_dict[index])           "
   ]
  },
  {
   "cell_type": "code",
   "execution_count": 46,
   "id": "34836870",
   "metadata": {},
   "outputs": [
    {
     "name": "stdout",
     "output_type": "stream",
     "text": [
      "camera\n",
      "tablet\n",
      "PAD\n",
      "nook\n",
      "great\n",
      "one\n",
      "reading\n",
      "color\n",
      "use\n",
      "touch\n"
     ]
    }
   ],
   "source": [
    "find_top_10('camera',embedds)"
   ]
  },
  {
   "cell_type": "code",
   "execution_count": 47,
   "id": "46806a2a",
   "metadata": {},
   "outputs": [],
   "source": [
    "words = ['camera','huge', 'big','mobile','play', 'fast','beautiful']\n",
    "selected = [word2embedding(word,model).detach().numpy() for word in words]"
   ]
  },
  {
   "cell_type": "code",
   "execution_count": 48,
   "id": "d21e5e35",
   "metadata": {},
   "outputs": [],
   "source": [
    "selected = np.array(selected)\n",
    "selected = selected.reshape(7,200)"
   ]
  },
  {
   "cell_type": "code",
   "execution_count": 49,
   "id": "73d27de6",
   "metadata": {},
   "outputs": [],
   "source": [
    "X_embedded = TSNE(n_components=2).fit_transform(selected)"
   ]
  },
  {
   "cell_type": "code",
   "execution_count": 50,
   "id": "ea51d609",
   "metadata": {},
   "outputs": [
    {
     "data": {
      "image/png": "[encoded data removed]",
      "text/plain": [
       "<Figure size 720x720 with 1 Axes>"
      ]
     },
     "metadata": {
      "needs_background": "light"
     },
     "output_type": "display_data"
    }
   ],
   "source": [
    "import matplotlib.pyplot as plt\n",
    "plt.figure(figsize=(10,10))\n",
    "plt.scatter(X_embedded[:,0], X_embedded[:,1])\n",
    "for word, (x,y) in zip(words, X_embedded):\n",
    "    plt.text(x+0.05, y+0.05, word)\n",
    "plt.show()"
   ]
  },
  {
   "cell_type": "code",
   "execution_count": null,
   "id": "45266333",
   "metadata": {},
   "outputs": [],
   "source": []
  }
 ],
 "metadata": {
  "kernelspec": {
   "display_name": "Python 3 (ipykernel)",
   "language": "python",
   "name": "python3"
  },
  "language_info": {
   "codemirror_mode": {
    "name": "ipython",
    "version": 3
   },
   "file_extension": ".py",
   "mimetype": "text/x-python",
   "name": "python",
   "nbconvert_exporter": "python",
   "pygments_lexer": "ipython3",
   "version": "3.8.8"
  }
 },
 "nbformat": 4,
 "nbformat_minor": 5
}
